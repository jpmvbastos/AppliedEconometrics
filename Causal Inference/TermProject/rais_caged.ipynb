{
 "cells": [
  {
   "cell_type": "code",
   "execution_count": 14,
   "metadata": {},
   "outputs": [],
   "source": [
    "import pandas as pd\n",
    "import numpy as np\n",
    "#import plotly.io as pio\n",
    "#import plotly.express as px\n",
    "#pd.options.plotting.backend = \"plotly\""
   ]
  },
  {
   "cell_type": "code",
   "execution_count": null,
   "metadata": {},
   "outputs": [],
   "source": [
    "# We read all RAIS files and create a column year to \n",
    "start_year = 2000 \n",
    "end_year = 2017\n",
    "years = list(range(start_year, end_year + 1))\n",
    "\n",
    "# Empty lists to collect the name of the dfs\n",
    "names_list = []\n",
    "\n",
    "# The globals() method is necessary to name the dfs using the string generate in the loop\n",
    "for year in years:\n",
    "  name = f'raisestab{year}'  \n",
    "  df = pd.read_csv(path+f'ESTB{year}.txt', delimiter=';', encoding='latin1', low_memory=False)\n",
    "  df['year']= year\n",
    "  globals()[name] = df\n",
    "  names_list.append(name)\n",
    "\n",
    "# Use the list of names in _list to call all dfs and concatenate them\n",
    "rais = pd.concat((globals()[name] for name in names_list), axis=0)"
   ]
  },
  {
   "cell_type": "code",
   "execution_count": 5,
   "metadata": {},
   "outputs": [],
   "source": [
    "df = pd.read_csv('/Users/jpmvbastos/Library/CloudStorage/OneDrive-TexasTechUniversity/Fall 2023/Causal Inference/Term Paper/Data/RR2017.txt', encoding='latin1', delimiter=';', low_memory=False)\n",
    "df = df[df['Ind Atividade Ano']==1]\n",
    "df['year'] = \n",
    "df"
   ]
  },
  {
   "cell_type": "code",
   "execution_count": 9,
   "metadata": {},
   "outputs": [],
   "source": [
    "caged = pd.read_csv('/Users/jpmvbastos/Library/CloudStorage/OneDrive-TexasTechUniversity/Fall 2023/Causal Inference/Term Paper/Data/CAGED/CAGEDEST_012013.txt', encoding='latin1', delimiter=';', low_memory=False)"
   ]
  },
  {
   "cell_type": "code",
   "execution_count": 11,
   "metadata": {},
   "outputs": [
    {
     "data": {
      "text/plain": [
       "3559644"
      ]
     },
     "execution_count": 11,
     "metadata": {},
     "output_type": "execute_result"
    }
   ],
   "source": [
    "len(caged)"
   ]
  }
 ],
 "metadata": {
  "kernelspec": {
   "display_name": "Python 3",
   "language": "python",
   "name": "python3"
  },
  "language_info": {
   "codemirror_mode": {
    "name": "ipython",
    "version": 3
   },
   "file_extension": ".py",
   "mimetype": "text/x-python",
   "name": "python",
   "nbconvert_exporter": "python",
   "pygments_lexer": "ipython3",
   "version": "3.9.6"
  },
  "orig_nbformat": 4
 },
 "nbformat": 4,
 "nbformat_minor": 2
}
