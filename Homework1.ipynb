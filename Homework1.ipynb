{
  "nbformat": 4,
  "nbformat_minor": 0,
  "metadata": {
    "colab": {
      "provenance": [],
      "authorship_tag": "ABX9TyPiKvqEQbZKbiY0opN+4fY5",
      "include_colab_link": true
    },
    "kernelspec": {
      "name": "python3",
      "display_name": "Python 3"
    },
    "language_info": {
      "name": "python"
    }
  },
  "cells": [
    {
      "cell_type": "markdown",
      "metadata": {
        "id": "view-in-github",
        "colab_type": "text"
      },
      "source": [
        "<a href=\"https://colab.research.google.com/github/jpmvbastos/AppliedEconometrics3/blob/main/Homework1.ipynb\" target=\"_parent\"><img src=\"https://colab.research.google.com/assets/colab-badge.svg\" alt=\"Open In Colab\"/></a>"
      ]
    },
    {
      "cell_type": "markdown",
      "source": [
        "# Homework 1\n",
        "\n",
        "\n",
        "\n",
        "\n",
        "\n"
      ],
      "metadata": {
        "id": "DZ2r_dja5Uln"
      }
    },
    {
      "cell_type": "code",
      "source": [
        "import pandas as pd \n",
        "import numpy as np\n",
        "import seaborn as sns \n",
        "sns.set_style('darkgrid')\n",
        "import statsmodels.api as sm\n",
        "import statsmodels.formula.api as smf\n",
        "from statsmodels.discrete.discrete_model import Poisson\n",
        "from statsmodels.base.model import GenericLikelihoodModel"
      ],
      "metadata": {
        "id": "9xfNqEVM55k7"
      },
      "execution_count": 53,
      "outputs": []
    },
    {
      "cell_type": "markdown",
      "source": [
        "## 2) Simulate a mixture of two normal populations\n",
        "\n",
        "Assumptions: \n",
        "\n",
        "$ y = \\beta_0 + \\beta_1x_1 + \\beta_2x_2 + \\epsilon$\n",
        "\n",
        "$ x_1 \\sim N(\\mu_1, \\sigma^2_1)$\n",
        "\n",
        "$ x_2 \\sim N(\\mu_2, \\sigma^2_2)$ "
      ],
      "metadata": {
        "id": "tZUIB0pP510Y"
      }
    },
    {
      "cell_type": "code",
      "execution_count": 5,
      "metadata": {
        "colab": {
          "base_uri": "https://localhost:8080/",
          "height": 419
        },
        "id": "jn0SqE2L4IG7",
        "outputId": "28f5fab1-bfb7-4330-ea79-441d80a7e54a"
      },
      "outputs": [
        {
          "output_type": "execute_result",
          "data": {
            "text/plain": [
              "       0         1          2\n",
              "0    1.0  1.255247  16.576370\n",
              "1    1.0  4.082118  18.195143\n",
              "2    1.0  1.565613  10.042071\n",
              "3    1.0  2.883446  19.451961\n",
              "4    1.0  3.335945  17.024418\n",
              "..   ...       ...        ...\n",
              "995  1.0  0.517967  15.450027\n",
              "996  1.0  2.499153  15.947030\n",
              "997  1.0  1.686185  18.980945\n",
              "998  1.0  1.297425  14.300259\n",
              "999  1.0  2.537925  16.958879\n",
              "\n",
              "[1000 rows x 3 columns]"
            ],
            "text/html": [
              "\n",
              "  <div id=\"df-0ee9b133-fd7a-42d7-a91b-c30d7a721168\">\n",
              "    <div class=\"colab-df-container\">\n",
              "      <div>\n",
              "<style scoped>\n",
              "    .dataframe tbody tr th:only-of-type {\n",
              "        vertical-align: middle;\n",
              "    }\n",
              "\n",
              "    .dataframe tbody tr th {\n",
              "        vertical-align: top;\n",
              "    }\n",
              "\n",
              "    .dataframe thead th {\n",
              "        text-align: right;\n",
              "    }\n",
              "</style>\n",
              "<table border=\"1\" class=\"dataframe\">\n",
              "  <thead>\n",
              "    <tr style=\"text-align: right;\">\n",
              "      <th></th>\n",
              "      <th>0</th>\n",
              "      <th>1</th>\n",
              "      <th>2</th>\n",
              "    </tr>\n",
              "  </thead>\n",
              "  <tbody>\n",
              "    <tr>\n",
              "      <th>0</th>\n",
              "      <td>1.0</td>\n",
              "      <td>1.255247</td>\n",
              "      <td>16.576370</td>\n",
              "    </tr>\n",
              "    <tr>\n",
              "      <th>1</th>\n",
              "      <td>1.0</td>\n",
              "      <td>4.082118</td>\n",
              "      <td>18.195143</td>\n",
              "    </tr>\n",
              "    <tr>\n",
              "      <th>2</th>\n",
              "      <td>1.0</td>\n",
              "      <td>1.565613</td>\n",
              "      <td>10.042071</td>\n",
              "    </tr>\n",
              "    <tr>\n",
              "      <th>3</th>\n",
              "      <td>1.0</td>\n",
              "      <td>2.883446</td>\n",
              "      <td>19.451961</td>\n",
              "    </tr>\n",
              "    <tr>\n",
              "      <th>4</th>\n",
              "      <td>1.0</td>\n",
              "      <td>3.335945</td>\n",
              "      <td>17.024418</td>\n",
              "    </tr>\n",
              "    <tr>\n",
              "      <th>...</th>\n",
              "      <td>...</td>\n",
              "      <td>...</td>\n",
              "      <td>...</td>\n",
              "    </tr>\n",
              "    <tr>\n",
              "      <th>995</th>\n",
              "      <td>1.0</td>\n",
              "      <td>0.517967</td>\n",
              "      <td>15.450027</td>\n",
              "    </tr>\n",
              "    <tr>\n",
              "      <th>996</th>\n",
              "      <td>1.0</td>\n",
              "      <td>2.499153</td>\n",
              "      <td>15.947030</td>\n",
              "    </tr>\n",
              "    <tr>\n",
              "      <th>997</th>\n",
              "      <td>1.0</td>\n",
              "      <td>1.686185</td>\n",
              "      <td>18.980945</td>\n",
              "    </tr>\n",
              "    <tr>\n",
              "      <th>998</th>\n",
              "      <td>1.0</td>\n",
              "      <td>1.297425</td>\n",
              "      <td>14.300259</td>\n",
              "    </tr>\n",
              "    <tr>\n",
              "      <th>999</th>\n",
              "      <td>1.0</td>\n",
              "      <td>2.537925</td>\n",
              "      <td>16.958879</td>\n",
              "    </tr>\n",
              "  </tbody>\n",
              "</table>\n",
              "<p>1000 rows × 3 columns</p>\n",
              "</div>\n",
              "      <button class=\"colab-df-convert\" onclick=\"convertToInteractive('df-0ee9b133-fd7a-42d7-a91b-c30d7a721168')\"\n",
              "              title=\"Convert this dataframe to an interactive table.\"\n",
              "              style=\"display:none;\">\n",
              "        \n",
              "  <svg xmlns=\"http://www.w3.org/2000/svg\" height=\"24px\"viewBox=\"0 0 24 24\"\n",
              "       width=\"24px\">\n",
              "    <path d=\"M0 0h24v24H0V0z\" fill=\"none\"/>\n",
              "    <path d=\"M18.56 5.44l.94 2.06.94-2.06 2.06-.94-2.06-.94-.94-2.06-.94 2.06-2.06.94zm-11 1L8.5 8.5l.94-2.06 2.06-.94-2.06-.94L8.5 2.5l-.94 2.06-2.06.94zm10 10l.94 2.06.94-2.06 2.06-.94-2.06-.94-.94-2.06-.94 2.06-2.06.94z\"/><path d=\"M17.41 7.96l-1.37-1.37c-.4-.4-.92-.59-1.43-.59-.52 0-1.04.2-1.43.59L10.3 9.45l-7.72 7.72c-.78.78-.78 2.05 0 2.83L4 21.41c.39.39.9.59 1.41.59.51 0 1.02-.2 1.41-.59l7.78-7.78 2.81-2.81c.8-.78.8-2.07 0-2.86zM5.41 20L4 18.59l7.72-7.72 1.47 1.35L5.41 20z\"/>\n",
              "  </svg>\n",
              "      </button>\n",
              "      \n",
              "  <style>\n",
              "    .colab-df-container {\n",
              "      display:flex;\n",
              "      flex-wrap:wrap;\n",
              "      gap: 12px;\n",
              "    }\n",
              "\n",
              "    .colab-df-convert {\n",
              "      background-color: #E8F0FE;\n",
              "      border: none;\n",
              "      border-radius: 50%;\n",
              "      cursor: pointer;\n",
              "      display: none;\n",
              "      fill: #1967D2;\n",
              "      height: 32px;\n",
              "      padding: 0 0 0 0;\n",
              "      width: 32px;\n",
              "    }\n",
              "\n",
              "    .colab-df-convert:hover {\n",
              "      background-color: #E2EBFA;\n",
              "      box-shadow: 0px 1px 2px rgba(60, 64, 67, 0.3), 0px 1px 3px 1px rgba(60, 64, 67, 0.15);\n",
              "      fill: #174EA6;\n",
              "    }\n",
              "\n",
              "    [theme=dark] .colab-df-convert {\n",
              "      background-color: #3B4455;\n",
              "      fill: #D2E3FC;\n",
              "    }\n",
              "\n",
              "    [theme=dark] .colab-df-convert:hover {\n",
              "      background-color: #434B5C;\n",
              "      box-shadow: 0px 1px 3px 1px rgba(0, 0, 0, 0.15);\n",
              "      filter: drop-shadow(0px 1px 2px rgba(0, 0, 0, 0.3));\n",
              "      fill: #FFFFFF;\n",
              "    }\n",
              "  </style>\n",
              "\n",
              "      <script>\n",
              "        const buttonEl =\n",
              "          document.querySelector('#df-0ee9b133-fd7a-42d7-a91b-c30d7a721168 button.colab-df-convert');\n",
              "        buttonEl.style.display =\n",
              "          google.colab.kernel.accessAllowed ? 'block' : 'none';\n",
              "\n",
              "        async function convertToInteractive(key) {\n",
              "          const element = document.querySelector('#df-0ee9b133-fd7a-42d7-a91b-c30d7a721168');\n",
              "          const dataTable =\n",
              "            await google.colab.kernel.invokeFunction('convertToInteractive',\n",
              "                                                     [key], {});\n",
              "          if (!dataTable) return;\n",
              "\n",
              "          const docLinkHtml = 'Like what you see? Visit the ' +\n",
              "            '<a target=\"_blank\" href=https://colab.research.google.com/notebooks/data_table.ipynb>data table notebook</a>'\n",
              "            + ' to learn more about interactive tables.';\n",
              "          element.innerHTML = '';\n",
              "          dataTable['output_type'] = 'display_data';\n",
              "          await google.colab.output.renderOutput(dataTable, element);\n",
              "          const docLink = document.createElement('div');\n",
              "          docLink.innerHTML = docLinkHtml;\n",
              "          element.appendChild(docLink);\n",
              "        }\n",
              "      </script>\n",
              "    </div>\n",
              "  </div>\n",
              "  "
            ]
          },
          "metadata": {},
          "execution_count": 5
        }
      ],
      "source": [
        "# Estipulate the parameters of the population\n",
        "n=1000\n",
        "\n",
        "#Generate x1\n",
        "mu1 = 2\n",
        "s1 = 1\n",
        "x1 = np.random.normal(mu1,s1,n)\n",
        "\n",
        "#Generate x2\n",
        "mu2 = 15\n",
        "s2 = 4\n",
        "x2 = np.random.normal(mu2, s2, n)\n",
        "\n",
        "#Create X matrix\n",
        "\n",
        "X = np.array([np.ones(n), x1 , x2]).T\n",
        "X = pd.DataFrame(X)\n",
        "X\n"
      ]
    },
    {
      "cell_type": "code",
      "source": [
        "#Establishing that we have a 50/50 mixture\n",
        "p = 0.5  \n",
        "\n",
        "R = np.random.random(n)\n",
        "\n",
        "ind = pd.Series(R < 0.3)\n",
        "ind = np.asarray(ind.replace({True:1,False:0}))\n",
        "n_p = sum(ind)"
      ],
      "metadata": {
        "id": "zwyBGt4X85Ag"
      },
      "execution_count": null,
      "outputs": []
    },
    {
      "cell_type": "markdown",
      "source": [
        "## 3) Monte Carlo Simulation\n",
        "\n",
        "Simulate 1000 observations of a variable $income$ and a variable $gender$ and use these covariates to simulate 1000 observations of the number of credit card frauds using the Poisson distribution with $\\lambda_i = exp(x_i'\\beta)$"
      ],
      "metadata": {
        "id": "xN9dZr_F-Z0I"
      }
    },
    {
      "cell_type": "code",
      "source": [
        "# Assume mean monthly income is $7000 with a variance of $2000\n",
        "income = np.random.normal(7000,2000,n)\n",
        "sns.displot(income, kde=True)"
      ],
      "metadata": {
        "colab": {
          "base_uri": "https://localhost:8080/",
          "height": 386
        },
        "id": "Bx9VS59M_IEF",
        "outputId": "0c623cd4-0ed8-4500-bbf2-45442c15e667"
      },
      "execution_count": 10,
      "outputs": [
        {
          "output_type": "execute_result",
          "data": {
            "text/plain": [
              "<seaborn.axisgrid.FacetGrid at 0x7f6656c8ded0>"
            ]
          },
          "metadata": {},
          "execution_count": 10
        },
        {
          "output_type": "display_data",
          "data": {
            "text/plain": [
              "<Figure size 360x360 with 1 Axes>"
            ],
            "image/png": "[encoded data removed]"
          },
          "metadata": {}
        }
      ]
    },
    {
      "cell_type": "code",
      "source": [
        "# Assume 51% of credit card owners are women\n",
        "female = np.random.binomial(1, 0.51, 1000) \n",
        "print(\"In our sample, we have \" + str(np.sum(gender)) + \" women.\")"
      ],
      "metadata": {
        "colab": {
          "base_uri": "https://localhost:8080/"
        },
        "id": "lVUDW-AuBdFu",
        "outputId": "74c53375-4e84-43ad-f5fa-50b23a887c73"
      },
      "execution_count": 18,
      "outputs": [
        {
          "output_type": "stream",
          "name": "stdout",
          "text": [
            "In our sample, we have 520 women.\n"
          ]
        }
      ]
    },
    {
      "cell_type": "markdown",
      "source": [
        "Let's assume that the number of credit card frauds is given by:\n",
        "\n",
        "$Fraud = exp(\\beta_0 + \\beta_1Income + \\beta_2Female)$\n",
        "\n",
        "where $\\beta_0=5$, $\\beta_1 = -0.025$ and $\\beta_2 = -0.05$"
      ],
      "metadata": {
        "id": "T9MafyEcCgWI"
      }
    },
    {
      "cell_type": "code",
      "source": [
        "# Generate X matrix\n",
        "X = X = np.array([np.ones(n), income , female]).T\n",
        "X = pd.DataFrame(X, columns=['cons','income', 'female'])\n",
        "\n",
        "# Apply data generating process\n",
        "Xb = 5 + -0.0005*income -0.025*female\n",
        "\n",
        "# Create Lambda\n",
        "l = np.exp(Xb)\n",
        "\n",
        "fraud = np.random.poisson(l,n)\n",
        "sns.displot(fraud, kde=True)"
      ],
      "metadata": {
        "colab": {
          "base_uri": "https://localhost:8080/",
          "height": 386
        },
        "id": "cGan-K3ZCAWC",
        "outputId": "eb0046bf-95d3-48a3-8a40-f5f9ea929ee6"
      },
      "execution_count": 41,
      "outputs": [
        {
          "output_type": "execute_result",
          "data": {
            "text/plain": [
              "<seaborn.axisgrid.FacetGrid at 0x7f6654930290>"
            ]
          },
          "metadata": {},
          "execution_count": 41
        },
        {
          "output_type": "display_data",
          "data": {
            "text/plain": [
              "<Figure size 360x360 with 1 Axes>"
            ],
            "image/png": "[encoded data removed]"
          },
          "metadata": {}
        }
      ]
    },
    {
      "cell_type": "markdown",
      "source": [
        "\n",
        "### a) Assuming linearity, estimate the $\\beta$ parameters"
      ],
      "metadata": {
        "id": "KkqzxEDQ_Ifu"
      }
    },
    {
      "cell_type": "code",
      "source": [
        "#Generate \n",
        "sm.OLS(fraud,X).fit().summary()"
      ],
      "metadata": {
        "colab": {
          "base_uri": "https://localhost:8080/",
          "height": 499
        },
        "id": "qL__3fz_-ZQs",
        "outputId": "ba3abf0e-6e8f-40c0-f1bf-59fdd5df15a2"
      },
      "execution_count": 50,
      "outputs": [
        {
          "output_type": "execute_result",
          "data": {
            "text/plain": [
              "<class 'statsmodels.iolib.summary.Summary'>\n",
              "\"\"\"\n",
              "                            OLS Regression Results                            \n",
              "==============================================================================\n",
              "Dep. Variable:                      y   R-squared:                       0.598\n",
              "Model:                            OLS   Adj. R-squared:                  0.598\n",
              "Method:                 Least Squares   F-statistic:                     743.0\n",
              "Date:                Wed, 05 Oct 2022   Prob (F-statistic):          2.80e-198\n",
              "Time:                        17:13:57   Log-Likelihood:                -3166.7\n",
              "No. Observations:                1000   AIC:                             6339.\n",
              "Df Residuals:                     997   BIC:                             6354.\n",
              "Df Model:                           2                                         \n",
              "Covariance Type:            nonrobust                                         \n",
              "==============================================================================\n",
              "                 coef    std err          t      P>|t|      [0.025      0.975]\n",
              "------------------------------------------------------------------------------\n",
              "cons          32.0184      0.686     46.657      0.000      30.672      33.365\n",
              "income        -0.0035   9.12e-05    -38.550      0.000      -0.004      -0.003\n",
              "female        -0.3936      0.364     -1.081      0.280      -1.108       0.321\n",
              "==============================================================================\n",
              "Omnibus:                      827.709   Durbin-Watson:                   2.017\n",
              "Prob(Omnibus):                  0.000   Jarque-Bera (JB):            29690.047\n",
              "Skew:                           3.547   Prob(JB):                         0.00\n",
              "Kurtosis:                      28.734   Cond. No.                     2.77e+04\n",
              "==============================================================================\n",
              "\n",
              "Notes:\n",
              "[1] Standard Errors assume that the covariance matrix of the errors is correctly specified.\n",
              "[2] The condition number is large, 2.77e+04. This might indicate that there are\n",
              "strong multicollinearity or other numerical problems.\n",
              "\"\"\""
            ],
            "text/html": [
              "<table class=\"simpletable\">\n",
              "<caption>OLS Regression Results</caption>\n",
              "<tr>\n",
              "  <th>Dep. Variable:</th>            <td>y</td>        <th>  R-squared:         </th> <td>   0.598</td> \n",
              "</tr>\n",
              "<tr>\n",
              "  <th>Model:</th>                   <td>OLS</td>       <th>  Adj. R-squared:    </th> <td>   0.598</td> \n",
              "</tr>\n",
              "<tr>\n",
              "  <th>Method:</th>             <td>Least Squares</td>  <th>  F-statistic:       </th> <td>   743.0</td> \n",
              "</tr>\n",
              "<tr>\n",
              "  <th>Date:</th>             <td>Wed, 05 Oct 2022</td> <th>  Prob (F-statistic):</th> <td>2.80e-198</td>\n",
              "</tr>\n",
              "<tr>\n",
              "  <th>Time:</th>                 <td>17:13:57</td>     <th>  Log-Likelihood:    </th> <td> -3166.7</td> \n",
              "</tr>\n",
              "<tr>\n",
              "  <th>No. Observations:</th>      <td>  1000</td>      <th>  AIC:               </th> <td>   6339.</td> \n",
              "</tr>\n",
              "<tr>\n",
              "  <th>Df Residuals:</th>          <td>   997</td>      <th>  BIC:               </th> <td>   6354.</td> \n",
              "</tr>\n",
              "<tr>\n",
              "  <th>Df Model:</th>              <td>     2</td>      <th>                     </th>     <td> </td>    \n",
              "</tr>\n",
              "<tr>\n",
              "  <th>Covariance Type:</th>      <td>nonrobust</td>    <th>                     </th>     <td> </td>    \n",
              "</tr>\n",
              "</table>\n",
              "<table class=\"simpletable\">\n",
              "<tr>\n",
              "     <td></td>       <th>coef</th>     <th>std err</th>      <th>t</th>      <th>P>|t|</th>  <th>[0.025</th>    <th>0.975]</th>  \n",
              "</tr>\n",
              "<tr>\n",
              "  <th>cons</th>   <td>   32.0184</td> <td>    0.686</td> <td>   46.657</td> <td> 0.000</td> <td>   30.672</td> <td>   33.365</td>\n",
              "</tr>\n",
              "<tr>\n",
              "  <th>income</th> <td>   -0.0035</td> <td> 9.12e-05</td> <td>  -38.550</td> <td> 0.000</td> <td>   -0.004</td> <td>   -0.003</td>\n",
              "</tr>\n",
              "<tr>\n",
              "  <th>female</th> <td>   -0.3936</td> <td>    0.364</td> <td>   -1.081</td> <td> 0.280</td> <td>   -1.108</td> <td>    0.321</td>\n",
              "</tr>\n",
              "</table>\n",
              "<table class=\"simpletable\">\n",
              "<tr>\n",
              "  <th>Omnibus:</th>       <td>827.709</td> <th>  Durbin-Watson:     </th> <td>   2.017</td> \n",
              "</tr>\n",
              "<tr>\n",
              "  <th>Prob(Omnibus):</th> <td> 0.000</td>  <th>  Jarque-Bera (JB):  </th> <td>29690.047</td>\n",
              "</tr>\n",
              "<tr>\n",
              "  <th>Skew:</th>          <td> 3.547</td>  <th>  Prob(JB):          </th> <td>    0.00</td> \n",
              "</tr>\n",
              "<tr>\n",
              "  <th>Kurtosis:</th>      <td>28.734</td>  <th>  Cond. No.          </th> <td>2.77e+04</td> \n",
              "</tr>\n",
              "</table><br/><br/>Notes:<br/>[1] Standard Errors assume that the covariance matrix of the errors is correctly specified.<br/>[2] The condition number is large, 2.77e+04. This might indicate that there are<br/>strong multicollinearity or other numerical problems."
            ]
          },
          "metadata": {},
          "execution_count": 50
        }
      ]
    },
    {
      "cell_type": "markdown",
      "source": [
        "### b) Use Maximum Likelihood to estimate the β parameters"
      ],
      "metadata": {
        "id": "hSPYq3m_JBGz"
      }
    },
    {
      "cell_type": "code",
      "source": [
        "Poisson(fraud, X).fit().summary()"
      ],
      "metadata": {
        "colab": {
          "base_uri": "https://localhost:8080/",
          "height": 320
        },
        "id": "4JQbwZLhI9B8",
        "outputId": "9b0fcdfd-366a-4932-e48e-efb1b3ae03ae"
      },
      "execution_count": 56,
      "outputs": [
        {
          "output_type": "stream",
          "name": "stdout",
          "text": [
            "Optimization terminated successfully.\n",
            "         Current function value: 2.110946\n",
            "         Iterations 17\n"
          ]
        },
        {
          "output_type": "execute_result",
          "data": {
            "text/plain": [
              "<class 'statsmodels.iolib.summary.Summary'>\n",
              "\"\"\"\n",
              "                          Poisson Regression Results                          \n",
              "==============================================================================\n",
              "Dep. Variable:                      y   No. Observations:                 1000\n",
              "Model:                        Poisson   Df Residuals:                      997\n",
              "Method:                           MLE   Df Model:                            2\n",
              "Date:                Wed, 05 Oct 2022   Pseudo R-squ.:                  0.6201\n",
              "Time:                        18:03:00   Log-Likelihood:                -2110.9\n",
              "converged:                       True   LL-Null:                       -5557.3\n",
              "Covariance Type:            nonrobust   LLR p-value:                     0.000\n",
              "==============================================================================\n",
              "                 coef    std err          z      P>|z|      [0.025      0.975]\n",
              "------------------------------------------------------------------------------\n",
              "cons           5.0483      0.036    140.002      0.000       4.978       5.119\n",
              "income        -0.0005   6.32e-06    -80.188      0.000      -0.001      -0.000\n",
              "female        -0.0338      0.023     -1.454      0.146      -0.079       0.012\n",
              "==============================================================================\n",
              "\"\"\""
            ],
            "text/html": [
              "<table class=\"simpletable\">\n",
              "<caption>Poisson Regression Results</caption>\n",
              "<tr>\n",
              "  <th>Dep. Variable:</th>           <td>y</td>        <th>  No. Observations:  </th>  <td>  1000</td> \n",
              "</tr>\n",
              "<tr>\n",
              "  <th>Model:</th>                <td>Poisson</td>     <th>  Df Residuals:      </th>  <td>   997</td> \n",
              "</tr>\n",
              "<tr>\n",
              "  <th>Method:</th>                 <td>MLE</td>       <th>  Df Model:          </th>  <td>     2</td> \n",
              "</tr>\n",
              "<tr>\n",
              "  <th>Date:</th>            <td>Wed, 05 Oct 2022</td> <th>  Pseudo R-squ.:     </th>  <td>0.6201</td> \n",
              "</tr>\n",
              "<tr>\n",
              "  <th>Time:</th>                <td>18:03:00</td>     <th>  Log-Likelihood:    </th> <td> -2110.9</td>\n",
              "</tr>\n",
              "<tr>\n",
              "  <th>converged:</th>             <td>True</td>       <th>  LL-Null:           </th> <td> -5557.3</td>\n",
              "</tr>\n",
              "<tr>\n",
              "  <th>Covariance Type:</th>     <td>nonrobust</td>    <th>  LLR p-value:       </th>  <td> 0.000</td> \n",
              "</tr>\n",
              "</table>\n",
              "<table class=\"simpletable\">\n",
              "<tr>\n",
              "     <td></td>       <th>coef</th>     <th>std err</th>      <th>z</th>      <th>P>|z|</th>  <th>[0.025</th>    <th>0.975]</th>  \n",
              "</tr>\n",
              "<tr>\n",
              "  <th>cons</th>   <td>    5.0483</td> <td>    0.036</td> <td>  140.002</td> <td> 0.000</td> <td>    4.978</td> <td>    5.119</td>\n",
              "</tr>\n",
              "<tr>\n",
              "  <th>income</th> <td>   -0.0005</td> <td> 6.32e-06</td> <td>  -80.188</td> <td> 0.000</td> <td>   -0.001</td> <td>   -0.000</td>\n",
              "</tr>\n",
              "<tr>\n",
              "  <th>female</th> <td>   -0.0338</td> <td>    0.023</td> <td>   -1.454</td> <td> 0.146</td> <td>   -0.079</td> <td>    0.012</td>\n",
              "</tr>\n",
              "</table>"
            ]
          },
          "metadata": {},
          "execution_count": 56
        }
      ]
    }
  ]
}