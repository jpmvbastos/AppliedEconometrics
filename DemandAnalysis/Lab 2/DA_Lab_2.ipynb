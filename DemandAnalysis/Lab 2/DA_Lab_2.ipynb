{
  "nbformat": 4,
  "nbformat_minor": 0,
  "metadata": {
    "colab": {
      "provenance": [],
      "authorship_tag": "ABX9TyOdwn9eknsNvXFasfUb0H5C",
      "include_colab_link": true
    },
    "kernelspec": {
      "name": "python3",
      "display_name": "Python 3"
    },
    "language_info": {
      "name": "python"
    }
  },
  "cells": [
    {
      "cell_type": "markdown",
      "metadata": {
        "id": "view-in-github",
        "colab_type": "text"
      },
      "source": [
        "<a href=\"https://colab.research.google.com/github/jpmvbastos/AppliedEconometrics/blob/main/DemandAnalysis/Lab%202/DA_Lab_2.ipynb\" target=\"_parent\"><img src=\"https://colab.research.google.com/assets/colab-badge.svg\" alt=\"Open In Colab\"/></a>"
      ]
    },
    {
      "cell_type": "code",
      "source": [
        "# Import libraries\n",
        "\n",
        "import pandas as pd\n",
        "import numpy as np\n",
        "import scipy as sp\n",
        "import matplotlib.pyplot as matplotlib\n",
        "import pyblp"
      ],
      "metadata": {
        "id": "7zSRMxnSZ2s8"
      },
      "execution_count": 13,
      "outputs": []
    },
    {
      "cell_type": "code",
      "source": [
        "# Import data\n",
        "df = pd.read_csv('blp_data.csv')\n",
        "\n",
        "# Specify the problem\n",
        "X1_form = pyblp.Formulation('0 + prices + cal + caff')\n",
        "X2_form = pyblp.Formulation('1 + prices + cal + caff')\n",
        "prod_form = (X1_form, X2_form)\n",
        "\n",
        "# Specify options\n",
        "mc_integration = pyblp.Integration('monte_carlo', size=50, specification_options={'seed':0})\n",
        "pr_integration = pyblp.Integration('product', size=5)\n",
        "optim = pyblp.Optimization('newton-cg', {'gtol':1e-4})"
      ],
      "metadata": {
        "id": "H1azkt1EaR6M"
      },
      "execution_count": null,
      "outputs": []
    },
    {
      "cell_type": "code",
      "source": [
        "mc_problem = pyblp.Problem(prod_form, df, integration=mc_integration)"
      ],
      "metadata": {
        "colab": {
          "base_uri": "https://localhost:8080/"
        },
        "id": "XTwOzLz1brCO",
        "outputId": "00ebe456-e369-482a-a7fa-f7494a6671f1"
      },
      "execution_count": null,
      "outputs": [
        {
          "output_type": "stream",
          "name": "stdout",
          "text": [
            "Initializing the problem ...\n",
            "Initialized the problem after 00:00:00.\n",
            "\n",
            "Dimensions:\n",
            "=================================\n",
            " T    N     I     K1    K2    MD \n",
            "---  ----  ----  ----  ----  ----\n",
            "78   1560  3900   3     4     19 \n",
            "=================================\n",
            "\n",
            "Formulations:\n",
            "=========================================================\n",
            "       Column Indices:           0       1      2     3  \n",
            "-----------------------------  ------  ------  ----  ----\n",
            " X1: Linear Characteristics    prices   cal    caff      \n",
            "X2: Nonlinear Characteristics    1     prices  cal   caff\n",
            "=========================================================\n"
          ]
        }
      ]
    },
    {
      "cell_type": "code",
      "source": [
        "# Run the model \n",
        "res1 = mc_problem.solve(sigma=np.ones((4,4)), optimization=optim) # Sigma is a matrix of ones for the initial values"
      ],
      "metadata": {
        "id": "9XZhZ_lJb581"
      },
      "execution_count": null,
      "outputs": []
    },
    {
      "cell_type": "markdown",
      "source": [
        "## Agent Demographics"
      ],
      "metadata": {
        "id": "kZVNZBVXg6lV"
      }
    },
    {
      "cell_type": "code",
      "source": [
        "from pyblp.economies.problem import Optimization\n",
        "# Import agent data\n",
        "agent_data = pd.read_excel('agent.xlsx')\n",
        "\n",
        "# Include agent formulation (demographics)\n",
        "agent_form = pyblp.Formulation('0 + inc + kids')\n",
        "\n",
        "# Formulate the problem\n",
        "ad_problem = pyblp.Formulation(prod_form, df, agent_form, agent_data, integration=mc_integration)\n",
        "\n",
        "# Options\n",
        "i_sigma = np.diag([0.3302,0.4526,0.0163,0.2441])\n",
        "i_pi = np.array([0.4819,0.203],[0.8935,-0.2],[-0.2506,],[])\n",
        "\n",
        "optim_sd = pyblp.Optimization('newton-cg', {'gtol':1e-4}, compute_gradient=True)\n",
        "\n",
        "new_res = ad_problem.solve(sigma = i_sigma, pi = i_pi, Optimization=optim_sd)\n",
        "\n"
      ],
      "metadata": {
        "id": "hVLLQwRucDj1"
      },
      "execution_count": null,
      "outputs": []
    },
    {
      "cell_type": "code",
      "source": [],
      "metadata": {
        "id": "rUmiSeZxjHgJ"
      },
      "execution_count": null,
      "outputs": []
    }
  ]
}